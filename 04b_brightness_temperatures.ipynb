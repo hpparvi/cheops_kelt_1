{
 "cells": [
  {
   "cell_type": "markdown",
   "metadata": {},
   "source": [
    "# KELT-1b brightness temperatures\n",
    "\n",
    "**Author:** Hannu Parviainen </br>\n",
    "**Edited:** 27.4.2022\n",
    "\n",
    "In this notebook we calculate the day- and nightside brightness temperatures of KELT-1b using the day- and nightside flux ratios from the final joint analysis. The brightness temperatures are estimated using three approaches for increased robustness:\n",
    "\n",
    "  - physical-physical (pp): where both the brown dwarf and its host star are modelled using BT-Settl spectra,\n",
    "  - blackbody-physical (bp): where the brown dwarf is modelled as a black body and the star using BT-Settl spectrum,\n",
    "  - blackbody-blackbody (bb): where both the brown dwarf and its host star are modelled as black bodies,\n",
    "  \n",
    "and the final results are averaged over the different approaches."
   ]
  },
  {
   "cell_type": "code",
   "execution_count": 1,
   "metadata": {},
   "outputs": [
    {
     "name": "stdout",
     "output_type": "stream",
     "text": [
      "%pylab is deprecated, use %matplotlib inline and import the required libraries.\n",
      "Populating the interactive namespace from numpy and matplotlib\n"
     ]
    }
   ],
   "source": [
    "%pylab inline"
   ]
  },
  {
   "cell_type": "code",
   "execution_count": 2,
   "metadata": {},
   "outputs": [],
   "source": [
    "import pandas as pd\n",
    "import seaborn as sb\n",
    "\n",
    "from pathlib import Path\n",
    "from tqdm.auto import tqdm\n",
    "\n",
    "from astropy.table import Table\n",
    "from scipy.optimize import minimize_scalar, minimize\n",
    "from pytransit.stars import create_bt_settl_interpolator\n",
    "from pytransit.utils.phasecurves import planck\n",
    "from pytransit.lpf.lpf import lnlike_normal\n",
    "\n",
    "from src.kelt1 import filters, filter_names, read_mcmc, star_teff, AAPGW, AAOCW\n",
    "\n",
    "def round_with_uncertainty(v, em, ep=None, d=2):\n",
    "    if ep is None:\n",
    "        return array([v, em]).round(1-int(floor((log10(abs(em))))))\n",
    "    else:\n",
    "        return array([v, em, ep]).round(1-int(floor(log10(abs(em)))))"
   ]
  },
  {
   "cell_type": "code",
   "execution_count": 3,
   "metadata": {},
   "outputs": [],
   "source": [
    "pb_names = r\"\\cheops, \\tess, \\pbh, \\pbks, \\spitzer 3.6~$\\mu$m, \\spitzer 4.5~$\\mu$m\".split(', ')"
   ]
  },
  {
   "cell_type": "code",
   "execution_count": 4,
   "metadata": {
    "scrolled": false
   },
   "outputs": [],
   "source": [
    "df = read_mcmc('results/03b_fin_emission_and_constrained_ev.nc')"
   ]
  },
  {
   "cell_type": "markdown",
   "metadata": {},
   "source": [
    "## Define the fitting functions"
   ]
  },
  {
   "cell_type": "code",
   "execution_count": 5,
   "metadata": {},
   "outputs": [],
   "source": [
    "from src.kelt1 import star_rho"
   ]
  },
  {
   "cell_type": "code",
   "execution_count": 6,
   "metadata": {},
   "outputs": [],
   "source": [
    "ip = create_bt_settl_interpolator()\n",
    "ip.fill_value = None\n",
    "ip.bounds_error = False\n",
    "\n",
    "def find_brightness_temperature_pp(tstar, fro, flt, tmin=2800.0, tmax=3500.0):\n",
    "    wl = flt.wavelength\n",
    "    ts = full(wl.size, tstar)\n",
    "    fstar = ip((ts, wl))\n",
    "    def minfun(tbr):\n",
    "        if tbr < 1200.0:\n",
    "            return inf\n",
    "        frm = average(ip((full(wl.size, tbr), wl)) / fstar, weights=flt.transmission)\n",
    "        return fabs(fro-frm)\n",
    "    return minimize_scalar(minfun, [tmin, tmax], bounds=(1200.0, 7000.0)).x\n",
    "\n",
    "\n",
    "def find_brightness_temperature_bp(tstar, fro, flt, tmin=2800.0, tmax=4000.0):\n",
    "    wl = flt.wavelength\n",
    "    ts = full(wl.size, tstar)\n",
    "    fstar = ip((ts, wl))\n",
    "    def minfun(tbr):\n",
    "        if tbr < 1000.0:\n",
    "            return inf\n",
    "        frm = average(pi*1e-6*planck(tbr, wl*1e-9) / fstar, weights=flt.transmission)\n",
    "        return fabs(fro-frm)\n",
    "    return minimize_scalar(minfun, [tmin, tmax], bounds=(1200.0, 7000.0)).x\n",
    "\n",
    "\n",
    "def find_brightness_temperature_bb(tstar, fro, flt, tmin=2800.0, tmax=4000.0):\n",
    "    wl = flt.wavelength\n",
    "    fstar = planck(tstar, wl*1e-9)\n",
    "    def minfun(tbr):\n",
    "        if tbr < 1000 or tbr > 4500:\n",
    "            return inf\n",
    "        frm = average(planck(tbr, wl*1e-9) / fstar, weights=flt.transmission)\n",
    "        return fabs(fro-frm)\n",
    "    return minimize_scalar(minfun, [tmin, tmax], bounds=(1000.0, 4000.0)).x"
   ]
  },
  {
   "cell_type": "markdown",
   "metadata": {},
   "source": [
    "## Calculate the nightside brightness temperatures\n",
    "\n",
    "This is something we need (or can) do only for the passbands where we have photometry over the full orbital phase (TESS and Spitzer)."
   ]
  },
  {
   "cell_type": "code",
   "execution_count": 23,
   "metadata": {},
   "outputs": [
    {
     "data": {
      "application/vnd.jupyter.widget-view+json": {
       "model_id": "e05c76c9d38e48ed98c8a4c5c769ea5a",
       "version_major": 2,
       "version_minor": 0
      },
      "text/plain": [
       "  0%|          | 0/3 [00:00<?, ?it/s]"
      ]
     },
     "metadata": {},
     "output_type": "display_data"
    },
    {
     "data": {
      "application/vnd.jupyter.widget-view+json": {
       "model_id": "",
       "version_major": 2,
       "version_minor": 0
      },
      "text/plain": [
       "  0%|          | 0/5000 [00:00<?, ?it/s]"
      ]
     },
     "metadata": {},
     "output_type": "display_data"
    },
    {
     "data": {
      "application/vnd.jupyter.widget-view+json": {
       "model_id": "",
       "version_major": 2,
       "version_minor": 0
      },
      "text/plain": [
       "  0%|          | 0/5000 [00:00<?, ?it/s]"
      ]
     },
     "metadata": {},
     "output_type": "display_data"
    },
    {
     "data": {
      "application/vnd.jupyter.widget-view+json": {
       "model_id": "",
       "version_major": 2,
       "version_minor": 0
      },
      "text/plain": [
       "  0%|          | 0/5000 [00:00<?, ?it/s]"
      ]
     },
     "metadata": {},
     "output_type": "display_data"
    }
   ],
   "source": [
    "ten_columns = [c for c in df.columns if 'ten' in c]\n",
    "samples = 10**df[ten_columns].sample(5000)\n",
    "tstar = normal(star_teff.n, star_teff.s, size=samples.shape[0])\n",
    "\n",
    "df_tbr_night = pd.DataFrame()\n",
    "for iflt in tqdm((1,4,5)):\n",
    "    flt = filters[iflt]\n",
    "    pbn = filter_names[iflt]\n",
    "    tbr_pp = zeros(samples.shape[0])\n",
    "    tbr_bp = zeros(samples.shape[0])\n",
    "    tbr_bb = zeros(samples.shape[0])\n",
    "    for i in tqdm(range(samples.shape[0]), leave=False):\n",
    "        tbr_pp[i] = find_brightness_temperature_pp(tstar[i], samples.iloc[i, iflt], flt)\n",
    "        tbr_bp[i] = find_brightness_temperature_bp(tstar[i], samples.iloc[i, iflt], flt)\n",
    "        tbr_bb[i] = find_brightness_temperature_bb(tstar[i], samples.iloc[i, iflt], flt)\n",
    "    df_tbr_night[f'tbr_pp_{pbn}'] = tbr_pp\n",
    "    df_tbr_night[f'tbr_bp_{pbn}'] = tbr_bp\n",
    "    df_tbr_night[f'tbr_bb_{pbn}'] = tbr_bb\n",
    "Table.from_pandas(df_tbr_night).write('results/tbr_night.fits', overwrite=True)"
   ]
  },
  {
   "cell_type": "markdown",
   "metadata": {},
   "source": [
    "## Calculate the dayside brightness temperatures"
   ]
  },
  {
   "cell_type": "code",
   "execution_count": 24,
   "metadata": {},
   "outputs": [
    {
     "data": {
      "application/vnd.jupyter.widget-view+json": {
       "model_id": "e3d0f8d708ce4dd9b9bccc3509f0481f",
       "version_major": 2,
       "version_minor": 0
      },
      "text/plain": [
       "  0%|          | 0/6 [00:00<?, ?it/s]"
      ]
     },
     "metadata": {},
     "output_type": "display_data"
    },
    {
     "data": {
      "application/vnd.jupyter.widget-view+json": {
       "model_id": "",
       "version_major": 2,
       "version_minor": 0
      },
      "text/plain": [
       "  0%|          | 0/5000 [00:00<?, ?it/s]"
      ]
     },
     "metadata": {},
     "output_type": "display_data"
    },
    {
     "data": {
      "application/vnd.jupyter.widget-view+json": {
       "model_id": "",
       "version_major": 2,
       "version_minor": 0
      },
      "text/plain": [
       "  0%|          | 0/5000 [00:00<?, ?it/s]"
      ]
     },
     "metadata": {},
     "output_type": "display_data"
    },
    {
     "data": {
      "application/vnd.jupyter.widget-view+json": {
       "model_id": "",
       "version_major": 2,
       "version_minor": 0
      },
      "text/plain": [
       "  0%|          | 0/5000 [00:00<?, ?it/s]"
      ]
     },
     "metadata": {},
     "output_type": "display_data"
    },
    {
     "data": {
      "application/vnd.jupyter.widget-view+json": {
       "model_id": "",
       "version_major": 2,
       "version_minor": 0
      },
      "text/plain": [
       "  0%|          | 0/5000 [00:00<?, ?it/s]"
      ]
     },
     "metadata": {},
     "output_type": "display_data"
    },
    {
     "data": {
      "application/vnd.jupyter.widget-view+json": {
       "model_id": "",
       "version_major": 2,
       "version_minor": 0
      },
      "text/plain": [
       "  0%|          | 0/5000 [00:00<?, ?it/s]"
      ]
     },
     "metadata": {},
     "output_type": "display_data"
    },
    {
     "data": {
      "application/vnd.jupyter.widget-view+json": {
       "model_id": "",
       "version_major": 2,
       "version_minor": 0
      },
      "text/plain": [
       "  0%|          | 0/5000 [00:00<?, ?it/s]"
      ]
     },
     "metadata": {},
     "output_type": "display_data"
    }
   ],
   "source": [
    "ted_columns = [c for c in df.columns if 'ted' in c]\n",
    "samples = 10**df[ted_columns].sample(5000)\n",
    "tstar = normal(star_teff.n, star_teff.s, size=samples.shape[0])\n",
    "\n",
    "df_tbr_day = pd.DataFrame()\n",
    "for iflt, (flt, pbn) in tqdm(enumerate(zip(filters, filter_names)), total=6):\n",
    "    tbr_pp = zeros(samples.shape[0])\n",
    "    tbr_bp = zeros(samples.shape[0])\n",
    "    tbr_bb = zeros(samples.shape[0])\n",
    "    for i in tqdm(range(samples.shape[0]), leave=False):\n",
    "        tbr_pp[i] = find_brightness_temperature_pp(tstar[i], samples.iloc[i, iflt], flt)\n",
    "        tbr_bp[i] = find_brightness_temperature_bp(tstar[i], samples.iloc[i, iflt], flt)\n",
    "        tbr_bb[i] = find_brightness_temperature_bb(tstar[i], samples.iloc[i, iflt], flt)\n",
    "    df_tbr_day[f'tbr_pp_{pbn}'] = tbr_pp\n",
    "    df_tbr_day[f'tbr_bp_{pbn}'] = tbr_bp\n",
    "    df_tbr_day[f'tbr_bb_{pbn}'] = tbr_bb\n",
    "Table.from_pandas(df_tbr_day).write('results/tbr_day.fits', overwrite=True)"
   ]
  },
  {
   "cell_type": "markdown",
   "metadata": {},
   "source": [
    "## Print the estimates"
   ]
  },
  {
   "cell_type": "code",
   "execution_count": 7,
   "metadata": {},
   "outputs": [],
   "source": [
    "tbr_night = Table.read('results/tbr_night.fits').to_pandas()\n",
    "tbr_day = Table.read('results/tbr_day.fits').to_pandas()"
   ]
  },
  {
   "cell_type": "code",
   "execution_count": 10,
   "metadata": {},
   "outputs": [
    {
     "name": "stdout",
     "output_type": "stream",
     "text": [
      "Nightside brightness temperatures\n",
      "TESS     & < 1723 & \\\\\n",
      "36um     & < 1119 & \\\\\n",
      "45um     & < 1000 & \\\\\n"
     ]
    }
   ],
   "source": [
    "print(\"Nightside brightness temperatures\")\n",
    "for i, pb in enumerate(('TESS', '36um', '45um')):\n",
    "    cols = [c for c in tbr_night.columns if pb in c]\n",
    "    p = percentile(tbr_night[cols].values.ravel(), [50, 16, 84, 99])\n",
    "    print(f\"{pb:8} & < {p[0]:.0f} & \\\\\\\\\")"
   ]
  },
  {
   "cell_type": "code",
   "execution_count": 11,
   "metadata": {},
   "outputs": [
    {
     "name": "stdout",
     "output_type": "stream",
     "text": [
      "Nightside brightness temperatures\n",
      "TESS     & < 3116 & \\\\\n",
      "36um     & < 2011 & \\\\\n",
      "45um     & < 1814 & \\\\\n"
     ]
    }
   ],
   "source": [
    "print(\"Nightside brightness temperatures\")\n",
    "for i, pb in enumerate(('TESS', '36um', '45um')):\n",
    "    cols = [c for c in tbr_night.columns if pb in c]\n",
    "    p = percentile(tbr_night[cols].values.ravel(), [50, 16, 84, 99])\n",
    "    print(f\"{pb:8} & < {p[-1]:.0f} & \\\\\\\\\")"
   ]
  },
  {
   "cell_type": "code",
   "execution_count": 12,
   "metadata": {},
   "outputs": [
    {
     "name": "stdout",
     "output_type": "stream",
     "text": [
      "Dayside brightness temperatures\n",
      "\\cheops              & 2052 -- 2901 & \\\\\n",
      "\\tess                & 3036 -- 3515 & \\\\\n",
      "\\pbh                 & 2081 -- 3378 & \\\\\n",
      "\\pbks                & 2947 -- 3427 & \\\\\n",
      "\\spitzer 3.6~$\\mu$m  & 3066 -- 3437 & \\\\\n",
      "\\spitzer 4.5~$\\mu$m  & 2794 -- 3239 & \\\\\n"
     ]
    }
   ],
   "source": [
    "print(\"Dayside brightness temperatures\")\n",
    "for i, pb in enumerate(filter_names):\n",
    "    cols = [c for c in tbr_day.columns if pb in c]\n",
    "    p = percentile(tbr_day[cols].values.ravel(), [2.5, 97.5])\n",
    "    print(f\"{pb_names[i]:20} & \"\n",
    "          f\"{p[0]:.0f} -- {p[1]:.0f} & \\\\\\\\\")"
   ]
  },
  {
   "cell_type": "markdown",
   "metadata": {},
   "source": [
    "## Plot the posteriors\n",
    "\n",
    "Lets first plot the posteriors for the brightness temperatures averaged over the method. And while we're at it, lets plot the best-fitting constant dayside brightness temperature to see if the TESS passband really deviates from the rest."
   ]
  },
  {
   "cell_type": "code",
   "execution_count": 13,
   "metadata": {},
   "outputs": [],
   "source": [
    "means, stds = [], []\n",
    "for i in range(5):\n",
    "    pb = filter_names[i]\n",
    "    cols = [c for c in tbr_day.columns if pb in c]\n",
    "    means.append(tbr_day[cols].values.mean())\n",
    "    stds.append(tbr_day[cols].values.std())\n",
    "means, stds = array(means), array(stds)\n",
    "\n",
    "def minfun(x):\n",
    "    return -lnlike_normal(full_like(means, x), means, stds)\n",
    "\n",
    "rr = minimize(minfun, [3000.])"
   ]
  },
  {
   "cell_type": "code",
   "execution_count": 36,
   "metadata": {},
   "outputs": [
    {
     "data": {
      "image/png": "[encoded data removed]",
      "text/plain": [
       "<Figure size 249.449x324.283 with 2 Axes>"
      ]
     },
     "metadata": {
      "needs_background": "light"
     },
     "output_type": "display_data"
    }
   ],
   "source": [
    "with sb.plotting_context('paper', font_scale=0.9):\n",
    "    fig, axs = subplots(2, 1, figsize=(AAOCW, 1.3*AAOCW), sharey='all', sharex='all')\n",
    "    ax = axs[0]\n",
    "    for i, fln in enumerate(filter_names):\n",
    "        cols = [c for c in tbr_day.columns if fln in c]\n",
    "        d = tbr_day[cols]\n",
    "        pc = percentile(d.values.ravel(), [50, 16, 84, 2.5, 97.5, 0.15, 99.85])\n",
    "        ax.bar(i, pc[6]-pc[5], bottom=pc[5], fc='C01', alpha=0.25, width=0.8, ec='k')\n",
    "        ax.bar(i, pc[2]-pc[1], bottom=pc[1], fc='C01', alpha=0.25, width=0.8, ec='k')\n",
    "        ax.axhline(rr.x, lw=1, ls='--', c='0.65')\n",
    "    \n",
    "    ax.errorbar(0.9, 3350, 115, fmt='.', c='0.5')  # Beatty et al. (2020)\n",
    "    ax.errorbar(1.1, 3201, 147, fmt='.', c='0.5')  # Von Essen et al. (2020)\n",
    "    ax.errorbar(  4, 3013,  72, fmt='.', c='0.5')  # Beatty et al. (2019)\n",
    "    ax.errorbar(  5, 2941,  84, fmt='.', c='0.5')  # Beatty et al. (2019)\n",
    "\n",
    "    ax = axs[1]\n",
    "    for i in (1,4,5):\n",
    "        fln = filter_names[i]\n",
    "        cols = [c for c in tbr_night.columns if fln in c]\n",
    "        d = tbr_night[cols]\n",
    "        pc = percentile(d.values.ravel(), [0.0, 90, 99])\n",
    "        for j in range(2):\n",
    "            ax.bar(i, pc[j+1]-pc[0], bottom=pc[0], fc='C0', alpha=0.25, width=0.8, ec='k')\n",
    "\n",
    "    \n",
    "    setp(axs[0], ylabel='Dayside $T_\\mathrm{Br}$ [K]')\n",
    "    setp(axs[1], xlabel='Passband', xticks=arange(6), \n",
    "         yticks=linspace(1000, 3800, 5), ylim=(999, 3800), ylabel='Nightside $T_\\mathrm{Br}$ [K]')\n",
    "    sb.despine(offset=5)\n",
    "    ax.set_xticklabels(r'CHEOPS, TESS, H, Ks, 3.6 $\\mu$m,  4.5 $\\mu$m'.split(', '), rotation=45)\n",
    "    fig.tight_layout()\n",
    "    fig.savefig('plots/brightness_temperatures.pdf')"
   ]
  },
  {
   "cell_type": "markdown",
   "metadata": {},
   "source": [
    "The CHEOPS and TESS bands disagree with each other, but the TESS band brightness temperature alone deviates from the best-fitting constant temperature only marginally. \n",
    "\n",
    "Next, lets also plot the posteriors for the separate approaches to see if the results are sensitive to the chosen approachs."
   ]
  },
  {
   "cell_type": "code",
   "execution_count": 37,
   "metadata": {},
   "outputs": [
    {
     "data": {
      "image/png": "[encoded data removed]",
      "text/plain": [
       "<Figure size 249.449x324.283 with 2 Axes>"
      ]
     },
     "metadata": {
      "needs_background": "light"
     },
     "output_type": "display_data"
    }
   ],
   "source": [
    "with sb.plotting_context('paper', font_scale=0.9):\n",
    "    fig, axs = subplots(2, 1, figsize=(AAOCW, 1.3*AAOCW), sharey='all', sharex='all')\n",
    "    ax = axs[0]\n",
    "    for k, tp in enumerate('pp bp bb'.split()):\n",
    "        for i, fln in enumerate(filter_names):\n",
    "            pc = percentile(tbr_day[f\"tbr_{tp}_{fln}\"], [50, 16, 84, 2.5, 97.5, 0.15, 99.85])\n",
    "            ax.text(i+0.25*(k-1), pc[-1]+50, 'pxb'[k], ha='center', size='small')\n",
    "            ax.bar(i+0.25*(k-1), pc[6]-pc[5], bottom=pc[5], fc='C01', alpha=0.25, width=0.2, ec='k')\n",
    "            ax.bar(i+0.25*(k-1), pc[2]-pc[1], bottom=pc[1], fc='C01', alpha=0.25, width=0.2, ec='k')\n",
    "    \n",
    "    ax = axs[1]\n",
    "    for k, tp in enumerate('pp bp bb'.split()):\n",
    "        for i in (1,4,5):\n",
    "            fln = filter_names[i]\n",
    "            pc = percentile(tbr_night[f\"tbr_{tp}_{fln}\"], [0, 90, 99])\n",
    "            ax.text(i+0.25*(k-1), pc[-1]+50, 'pxb'[k], ha='center', size='small')\n",
    "            for j in range(2):\n",
    "                ax.bar(i+0.25*(k-1), pc[j+1]-pc[0], bottom=pc[0], fc='C00', alpha=0.25, width=0.2, ec='k')\n",
    "    \n",
    "    setp(axs[0], ylabel='Dayside $T_\\mathrm{Br}$ [K]')\n",
    "    setp(axs[1], xlabel='Passband', xticks=arange(6), \n",
    "         yticks=linspace(1000, 3800, 5), ylim=(999, 3800), ylabel='Nightside $T_\\mathrm{Br}$ [K]')\n",
    "    sb.despine(offset=5)\n",
    "    ax.set_xticklabels(r'CHEOPS, TESS, H, Ks, 3.6 $\\mu$m,  4.5 $\\mu$m'.split(', '), rotation=45)\n",
    "    fig.tight_layout()\n",
    "    fig.savefig('plots/brightness_temperatures_sep.pdf')"
   ]
  },
  {
   "cell_type": "markdown",
   "metadata": {},
   "source": [
    "Doesn't look like that'd be the case, so everything's good here."
   ]
  },
  {
   "cell_type": "markdown",
   "metadata": {},
   "source": [
    "---\n",
    "\n",
    "<center>&copy;2022 Hannu Parviainen</center>"
   ]
  }
 ],
 "metadata": {
  "kernelspec": {
   "display_name": "Python 3 (ipykernel)",
   "language": "python",
   "name": "python3"
  },
  "language_info": {
   "codemirror_mode": {
    "name": "ipython",
    "version": 3
   },
   "file_extension": ".py",
   "mimetype": "text/x-python",
   "name": "python",
   "nbconvert_exporter": "python",
   "pygments_lexer": "ipython3",
   "version": "3.9.12"
  },
  "latex_envs": {
   "LaTeX_envs_menu_present": true,
   "autoclose": false,
   "autocomplete": true,
   "bibliofile": "biblio.bib",
   "cite_by": "apalike",
   "current_citInitial": 1,
   "eqLabelWithNumbers": true,
   "eqNumInitial": 1,
   "hotkeys": {
    "equation": "Ctrl-E",
    "itemize": "Ctrl-I"
   },
   "labels_anchors": false,
   "latex_user_defs": false,
   "report_style_numbering": false,
   "user_envs_cfg": false
  }
 },
 "nbformat": 4,
 "nbformat_minor": 4
}
