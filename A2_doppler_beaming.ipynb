{
 "cells": [
  {
   "cell_type": "markdown",
   "id": "c6df081c",
   "metadata": {},
   "source": [
    "# Appendix 2. Doppler beaming"
   ]
  },
  {
   "cell_type": "code",
   "execution_count": 1,
   "id": "gross-begin",
   "metadata": {},
   "outputs": [
    {
     "name": "stdout",
     "output_type": "stream",
     "text": [
      "Populating the interactive namespace from numpy and matplotlib\n"
     ]
    }
   ],
   "source": [
    "%pylab inline"
   ]
  },
  {
   "cell_type": "code",
   "execution_count": 2,
   "id": "85c5e63a",
   "metadata": {},
   "outputs": [],
   "source": [
    "from tqdm.auto import tqdm\n",
    "from pytransit.utils.phasecurves import doppler_beaming_factor, doppler_beaming_amplitude\n",
    "from src.kelt1 import kelt1_m, star_m, star_teff, period, filters, filter_names"
   ]
  },
  {
   "cell_type": "code",
   "execution_count": 3,
   "id": "f30708d7-67f0-45d9-8f17-73641921f923",
   "metadata": {},
   "outputs": [],
   "source": [
    "ns = 150\n",
    "dteff = normal(star_teff.n, star_teff.s, ns)\n",
    "dcmass = normal(kelt1_m.n, kelt1_m.s, ns)\n",
    "dsmass = normal(star_m.n, star_m.s, ns)"
   ]
  },
  {
   "cell_type": "code",
   "execution_count": 4,
   "id": "8e42a29c-ba18-401b-b9e3-72deb9a7ada5",
   "metadata": {},
   "outputs": [
    {
     "data": {
      "application/vnd.jupyter.widget-view+json": {
       "model_id": "e6491b1621d54ffba6c4f4e7060a00a6",
       "version_major": 2,
       "version_minor": 0
      },
      "text/plain": [
       "  0%|          | 0/6 [00:00<?, ?it/s]"
      ]
     },
     "metadata": {},
     "output_type": "display_data"
    }
   ],
   "source": [
    "dbfs = []\n",
    "for f in tqdm(filters):\n",
    "    dbfs.append([doppler_beaming_factor(teff, f, 'BT-Settl') for teff in dteff])\n",
    "dbfs = array(dbfs)"
   ]
  },
  {
   "cell_type": "code",
   "execution_count": 5,
   "id": "25b986fc-754a-4f7d-88d2-3b00220b1f38",
   "metadata": {},
   "outputs": [],
   "source": [
    "db_amplitudes = []\n",
    "for iflt in range(len(filters)):\n",
    "    db_amplitudes.append([doppler_beaming_amplitude(cm, sm, period.n, a) for cm,sm,a in zip(dcmass, dsmass, dbfs[iflt])])\n",
    "db_amplitudes = array(db_amplitudes)"
   ]
  },
  {
   "cell_type": "code",
   "execution_count": 6,
   "id": "b0252376-fe7a-4f7a-b743-d4b88ffbfcdd",
   "metadata": {},
   "outputs": [
    {
     "data": {
      "text/plain": [
       "array([4.36569626, 2.88174264, 1.73766991, 1.29084337, 1.16191107,\n",
       "       1.11501861])"
      ]
     },
     "execution_count": 6,
     "metadata": {},
     "output_type": "execute_result"
    }
   ],
   "source": [
    "array(dbfs).mean(1)"
   ]
  },
  {
   "cell_type": "code",
   "execution_count": 7,
   "id": "a7175bde-1f42-4af2-90d4-341f203b1929",
   "metadata": {},
   "outputs": [
    {
     "data": {
      "text/plain": [
       "array([6.30116067e-05, 4.15932402e-05, 2.50805595e-05, 1.86313712e-05,\n",
       "       1.67704334e-05, 1.60937207e-05])"
      ]
     },
     "execution_count": 7,
     "metadata": {},
     "output_type": "execute_result"
    }
   ],
   "source": [
    "db_amplitudes.mean(1)"
   ]
  },
  {
   "cell_type": "code",
   "execution_count": 9,
   "id": "75f37865-d2a5-4dbe-b535-3b17513e46d5",
   "metadata": {},
   "outputs": [
    {
     "name": "stdout",
     "output_type": "stream",
     "text": [
      "63.01 3.12\n",
      "41.59 2.06\n",
      "25.08 1.24\n",
      "18.63 0.92\n",
      "16.77 0.83\n",
      "16.09 0.80\n"
     ]
    }
   ],
   "source": [
    "for i, a in enumerate(db_amplitudes):\n",
    "    print(f\"{1e6*a.mean():.2f} {1e6*a.std():.2f}\")"
   ]
  },
  {
   "cell_type": "markdown",
   "id": "e94961b0",
   "metadata": {},
   "source": [
    "---\n",
    "\n",
    "<center>&copy; 2021 Hannu Parviainen</center>"
   ]
  }
 ],
 "metadata": {
  "kernelspec": {
   "display_name": "Python 3 (ipykernel)",
   "language": "python",
   "name": "python3"
  },
  "language_info": {
   "codemirror_mode": {
    "name": "ipython",
    "version": 3
   },
   "file_extension": ".py",
   "mimetype": "text/x-python",
   "name": "python",
   "nbconvert_exporter": "python",
   "pygments_lexer": "ipython3",
   "version": "3.8.5"
  }
 },
 "nbformat": 4,
 "nbformat_minor": 5
}
