{
 "cells": [
  {
   "cell_type": "markdown",
   "id": "0ab70efd",
   "metadata": {},
   "source": [
    "# 1 Modelling the external data\n",
    "## Case b) Constrained EV amplitude\n",
    "\n",
    "**Author:** Hannu Parviainen<br>\n",
    "**Last edited:** 26.5.2022\n",
    "\n",
    "Here we model the external data constraining the EV amplitudes using theoretical amplitude ratios rather than the absolute EV amplitudes. Otherwise everything is like in the 1a notebook."
   ]
  },
  {
   "cell_type": "code",
   "execution_count": null,
   "id": "3b7ab5f1",
   "metadata": {},
   "outputs": [],
   "source": [
    "%run src/init_threading_for_multiprocessing.py"
   ]
  },
  {
   "cell_type": "code",
   "execution_count": null,
   "id": "fa140397",
   "metadata": {},
   "outputs": [],
   "source": [
    "%matplotlib inline"
   ]
  },
  {
   "cell_type": "code",
   "execution_count": null,
   "id": "097a2ee6",
   "metadata": {},
   "outputs": [],
   "source": [
    "from multiprocessing import Pool\n",
    "from numpy.random import permutation\n",
    "from src import ExternalDataLPF, read_mcmc"
   ]
  },
  {
   "cell_type": "code",
   "execution_count": null,
   "id": "6eeb9d46",
   "metadata": {},
   "outputs": [],
   "source": [
    "lpf = ExternalDataLPF('b')"
   ]
  },
  {
   "cell_type": "code",
   "execution_count": null,
   "id": "2210d1c7",
   "metadata": {},
   "outputs": [],
   "source": [
    "def lnposterior(pv):\n",
    "    return lpf.lnposterior(pv)\n",
    "\n",
    "pool = Pool(processes=50)"
   ]
  },
  {
   "cell_type": "code",
   "execution_count": null,
   "id": "d524906b",
   "metadata": {},
   "outputs": [],
   "source": [
    "how_to_start = 'start_from_scenario_a'\n",
    "#how_to_start = 'start_from_scratch'\n",
    "#how_to_start = 'continue'\n",
    "npop = 200\n",
    "\n",
    "if how_to_start is 'start_from_scratch':\n",
    "    lpf.optimize_global(45000, npop, pool=pool, lnpost=lnposterior, vectorize=False)\n",
    "    lpf.sample_mcmc(50, thin=10, repeats=1, save=False, pool=pool, lnpost=lnposterior, vectorize=False)\n",
    "else:\n",
    "    if how_to_start is 'continue':\n",
    "        df = read_mcmc(f'results/{lpf.name}.nc')\n",
    "    elif how_to_start is 'start_from_scenario_a':\n",
    "        df = read_mcmc('results/01a_ext_emission_and_theoretical_ev.nc')\n",
    "    else:\n",
    "        raise NotImplementedError\n",
    "    lpf.optimize_global(1, npop, pool=pool, lnpost=lnposterior, vectorize=False)\n",
    "    sids = permutation(df.values.shape[0])[:lpf.de.n_pop]\n",
    "    starting_population = df.values[sids, :-1].copy()\n",
    "    lpf.sample_mcmc(50, thin=10, repeats=1, save=False, population=starting_population, \n",
    "                   pool=pool, lnpost=lnposterior, vectorize=False)"
   ]
  },
  {
   "cell_type": "code",
   "execution_count": null,
   "id": "d28490f3",
   "metadata": {},
   "outputs": [],
   "source": [
    "lpf.sample_mcmc(5000, thin=50, repeats=10, save=True, pool=pool, lnpost=lnposterior, vectorize=False)"
   ]
  },
  {
   "cell_type": "markdown",
   "id": "6041f1dc",
   "metadata": {},
   "source": [
    "---\n",
    "\n",
    "<center>&copy 2022 Hannu Parviainen</center>"
   ]
  }
 ],
 "metadata": {
  "kernelspec": {
   "display_name": "Python 3 (ipykernel)",
   "language": "python",
   "name": "python3"
  },
  "language_info": {
   "codemirror_mode": {
    "name": "ipython",
    "version": 3
   },
   "file_extension": ".py",
   "mimetype": "text/x-python",
   "name": "python",
   "nbconvert_exporter": "python",
   "pygments_lexer": "ipython3",
   "version": "3.9.12"
  }
 },
 "nbformat": 4,
 "nbformat_minor": 5
}
