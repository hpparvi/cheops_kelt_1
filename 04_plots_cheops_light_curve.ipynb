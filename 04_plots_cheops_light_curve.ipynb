{
 "cells": [
  {
   "cell_type": "markdown",
   "id": "bf7ace00",
   "metadata": {},
   "source": [
    "# CHEOPS and TESS light curve plots"
   ]
  },
  {
   "cell_type": "code",
   "execution_count": 1,
   "id": "ad52b9cd",
   "metadata": {},
   "outputs": [],
   "source": [
    "%matplotlib inline"
   ]
  },
  {
   "cell_type": "code",
   "execution_count": 9,
   "id": "7370c03b",
   "metadata": {},
   "outputs": [],
   "source": [
    "import seaborn as sb\n",
    "\n",
    "from numpy import array, argsort, percentile, median\n",
    "from numpy.random import permutation\n",
    "\n",
    "from matplotlib.pyplot import subplots, setp\n",
    "\n",
    "from pytransit.orbits import fold, epoch\n",
    "from pytransit.utils.downsample import downsample_time_1d\n",
    "\n",
    "from src.kelt1 import read_mcmc, AAPGW, AAOCW\n",
    "from src import FinalLPF"
   ]
  },
  {
   "cell_type": "code",
   "execution_count": 3,
   "id": "12e9a460",
   "metadata": {},
   "outputs": [],
   "source": [
    "lpf = FinalLPF('b')"
   ]
  },
  {
   "cell_type": "code",
   "execution_count": 4,
   "id": "c6f0c216",
   "metadata": {},
   "outputs": [],
   "source": [
    "d02 = read_mcmc('results/03b_fin_emission_and_constrained_ev.nc')\n",
    "pvp = permutation(d02)[:100]\n",
    "t0, p = median(pvp, 0)[:2]"
   ]
  },
  {
   "cell_type": "markdown",
   "id": "f2ecfcbc",
   "metadata": {},
   "source": [
    "## Calculate the TESS model"
   ]
  },
  {
   "cell_type": "code",
   "execution_count": 5,
   "id": "a67aaafa",
   "metadata": {},
   "outputs": [],
   "source": [
    "gp = lpf._lnlikelihood_models[1]\n",
    "slt = lpf.lcslices[8]\n",
    "flux_obs_tess = lpf.ofluxa[slt]\n",
    "time_tess = lpf.timea[slt]\n",
    "phase_tess = 24*fold(time_tess, p, t0, 0.5)\n",
    "flux_mod_tess_dist = lpf.transit_model(pvp)[:, slt]\n",
    "gp_tess_dist = array([gp.predict_baseline(pv)[slt] for pv in pvp])\n",
    "bl_tess_dist = lpf.baseline(pvp)[:, slt]\n",
    "\n",
    "flux_cor_tess = median(flux_obs_tess / bl_tess_dist - gp_tess_dist + 1, 0)\n",
    "flux_mod_tess = percentile(flux_mod_tess_dist, [50, 16, 84], 0)"
   ]
  },
  {
   "cell_type": "markdown",
   "id": "dcc39ef9",
   "metadata": {},
   "source": [
    "## Calculate the CHEOPS model"
   ]
  },
  {
   "cell_type": "code",
   "execution_count": 7,
   "id": "616b57f7",
   "metadata": {},
   "outputs": [],
   "source": [
    "slc = slice(0, lpf.lcslices[7].stop)\n",
    "time_cheops = lpf.timea[slc]\n",
    "phase_cheops = 24*fold(time_cheops, p, t0, 0.5)\n",
    "flux_obs_cheops = lpf.ofluxa[slc]\n",
    "flux_mod_cheops_dist = lpf.transit_model(pvp)[:,slc]\n",
    "bl_cheops_dist = lpf.baseline(pvp)[:,slc]\n",
    "\n",
    "flux_cor_cheops = median(flux_obs_cheops / bl_cheops_dist, 0)\n",
    "flux_mod_cheops = percentile(flux_mod_cheops_dist, [50, 16, 84], 0)"
   ]
  },
  {
   "cell_type": "markdown",
   "id": "b206ac40",
   "metadata": {},
   "source": [
    "## Create the final plot"
   ]
  },
  {
   "cell_type": "code",
   "execution_count": 10,
   "id": "f922984a",
   "metadata": {},
   "outputs": [
    {
     "data": {
      "image/png": "[encoded data removed]",
      "text/plain": [
       "<Figure size 249.449x299.339 with 2 Axes>"
      ]
     },
     "metadata": {
      "needs_background": "light"
     },
     "output_type": "display_data"
    }
   ],
   "source": [
    "with sb.plotting_context('paper', font_scale=0.9):\n",
    "    fig, axs = subplots(2, 1, figsize=(AAOCW, 1.2*AAOCW), sharex='all', sharey='all')\n",
    "    \n",
    "    # CHEOPS\n",
    "    # ------\n",
    "    sids = argsort(phase_cheops)\n",
    "    bp, bf, be = downsample_time_1d(phase_cheops[sids], flux_cor_cheops[sids], 20 / 60, tmin=-4, tmax=4)\n",
    "    axs[0].fill_between(phase_cheops[sids], *(1e6*(flux_mod_cheops[1:, sids]-1)), alpha=0.4)\n",
    "    axs[0].errorbar(bp, 1e6*(bf-1), 1e6*be, fmt='.', c=\"k\", alpha=0.5)\n",
    "    axs[0].plot(phase_cheops[sids], 1e6*(flux_mod_cheops[0, sids]-1), 'k')\n",
    "    \n",
    "    # TESS\n",
    "    # ----\n",
    "    sids = argsort(phase_tess)\n",
    "    bp, bf, be = downsample_time_1d(phase_tess[sids], flux_cor_tess[sids], 20 / 60, tmin=-4, tmax=4) \n",
    "    axs[1].fill_between(phase_tess[sids], *((1e6*(flux_mod_tess[1:, sids] - 1) - 350)), alpha=0.4)\n",
    "    axs[1].errorbar(bp, 1e6*(bf-1)-350, 1e6*be, fmt='.', c=\"k\", zorder=-1, alpha=0.5)\n",
    "    axs[1].plot(phase_tess[sids], 1e6*(flux_mod_tess[0, sids] - 1) - 350, 'k')\n",
    "\n",
    "    for i, ax in enumerate(axs):\n",
    "        ax.text(0.98, 0.05, ('CHEOPS', 'TESS')[i], ha='right', transform=ax.transAxes)\n",
    "    setp(axs, ylabel='Normalised flux - 1 [ppm]', xlim=(-4.2, 4.2), ylim=(-1000, 100))\n",
    "    setp(axs[1], xlabel='Time - T$_\\mathrm{e}$ [h]')\n",
    "    sb.despine(offset=5)\n",
    "    fig.tight_layout()\n",
    "    fig.subplots_adjust(bottom=0.12)\n",
    "    fig.savefig('plots/cheops_light_curve.pdf')"
   ]
  },
  {
   "cell_type": "markdown",
   "id": "2b029fdd",
   "metadata": {},
   "source": [
    "---\n",
    "\n",
    "<center>&copy;2022 Hannu Parviainen</center>"
   ]
  }
 ],
 "metadata": {
  "kernelspec": {
   "display_name": "Python 3 (ipykernel)",
   "language": "python",
   "name": "python3"
  },
  "language_info": {
   "codemirror_mode": {
    "name": "ipython",
    "version": 3
   },
   "file_extension": ".py",
   "mimetype": "text/x-python",
   "name": "python",
   "nbconvert_exporter": "python",
   "pygments_lexer": "ipython3",
   "version": "3.9.12"
  }
 },
 "nbformat": 4,
 "nbformat_minor": 5
}
