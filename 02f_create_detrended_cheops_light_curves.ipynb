{
 "cells": [
  {
   "cell_type": "markdown",
   "metadata": {},
   "source": [
    "# Create detrended CHEOPS light curves\n",
    "\n",
    "**Author:** Hannu Parviainen<br>\n",
    "**Last edited:** 10.1.2022"
   ]
  },
  {
   "cell_type": "code",
   "execution_count": 1,
   "metadata": {},
   "outputs": [
    {
     "name": "stdout",
     "output_type": "stream",
     "text": [
      "%pylab is deprecated, use %matplotlib inline and import the required libraries.\n",
      "Populating the interactive namespace from numpy and matplotlib\n"
     ]
    }
   ],
   "source": [
    "%pylab inline\n",
    "rc('figure', figsize=(13,4))"
   ]
  },
  {
   "cell_type": "code",
   "execution_count": 2,
   "metadata": {},
   "outputs": [],
   "source": [
    "import pandas as pd\n",
    "from astropy.table import Table\n",
    "from src import CHEOPSLPF, read_mcmc"
   ]
  },
  {
   "cell_type": "code",
   "execution_count": 3,
   "metadata": {},
   "outputs": [],
   "source": [
    "lpf = CHEOPSLPF('c')"
   ]
  },
  {
   "cell_type": "code",
   "execution_count": 4,
   "metadata": {},
   "outputs": [],
   "source": [
    "df = read_mcmc('results/02b_cheops_emission_and_constrained_ev.nc')"
   ]
  },
  {
   "cell_type": "code",
   "execution_count": 17,
   "metadata": {},
   "outputs": [],
   "source": [
    "cs = [i for i,c in enumerate(df.columns) if 'lm_i_' in c]"
   ]
  },
  {
   "cell_type": "code",
   "execution_count": 9,
   "metadata": {},
   "outputs": [],
   "source": [
    "import seaborn as sb"
   ]
  },
  {
   "cell_type": "code",
   "execution_count": 28,
   "metadata": {},
   "outputs": [
    {
     "data": {
      "text/plain": [
       "array(['tc', 'p', 'rho', 'b', 'secw', 'sesw', 'k2', 'oev', 'aev_cheops',\n",
       "       'adb_cheops', 'log10_ted_cheops', 'log10_ten_cheops', 'teo_cheops',\n",
       "       'ag_cheops', 'q1_cheops', 'q2_cheops', 'wn_loge_0', 'lm_i__0',\n",
       "       'lm_s__0_1', 'lm_s__0_2', 'lm_s__0_3', 'lm_s__0_4', 'lm_s__0_5',\n",
       "       'lm_s__0_6', 'lm_s__0_7', 'lm_s__0_8', 'lm_s__0_9', 'lm_s__0_10',\n",
       "       'lm_s__0_11', 'lm_s__0_12', 'lm_i__0', 'lm_s__0_1', 'lm_s__0_2',\n",
       "       'lm_s__0_3', 'lm_s__0_4', 'lm_s__0_5', 'lm_s__0_6', 'lm_s__0_7',\n",
       "       'lm_s__0_8', 'lm_s__0_9', 'lm_s__0_10', 'lm_s__0_11', 'lm_s__0_12',\n",
       "       'lm_s__0_13', 'lm_s__0_14', 'lm_s__0_15', 'lm_s__0_16',\n",
       "       'lm_s__0_17', 'lm_s__0_18', 'lm_s__0_19', 'lm_s__0_20',\n",
       "       'lm_s__0_21', 'lm_i__0', 'lm_s__0_1', 'lm_s__0_2', 'lm_s__0_3',\n",
       "       'lm_s__0_4', 'lm_s__0_5', 'lm_s__0_6', 'lm_s__0_7', 'lm_s__0_8',\n",
       "       'lm_s__0_9', 'lm_s__0_10', 'lm_s__0_11', 'lm_s__0_12',\n",
       "       'lm_s__0_13', 'lm_s__0_14', 'lm_s__0_15', 'lm_s__0_16',\n",
       "       'lm_s__0_17', 'lm_s__0_18', 'lm_s__0_19', 'lm_s__0_20',\n",
       "       'lm_s__0_21', 'lm_s__0_22', 'lm_s__0_23', 'lm_s__0_24', 'lm_i__0',\n",
       "       'lm_s__0_1', 'lm_s__0_2', 'lm_s__0_3', 'lm_s__0_4', 'lm_s__0_5',\n",
       "       'lm_s__0_6', 'lm_s__0_7', 'lm_s__0_8', 'lm_s__0_9', 'lm_s__0_10',\n",
       "       'lm_s__0_11', 'lm_s__0_12', 'lm_s__0_13', 'lm_s__0_14',\n",
       "       'lm_s__0_15', 'lm_s__0_16', 'lm_s__0_17', 'lm_s__0_18',\n",
       "       'lm_s__0_19', 'lm_s__0_20', 'lm_i__0', 'lm_s__0_1', 'lm_s__0_2',\n",
       "       'lm_s__0_3', 'lm_s__0_4', 'lm_s__0_5', 'lm_s__0_6', 'lm_s__0_7',\n",
       "       'lm_s__0_8', 'lm_s__0_9', 'lm_s__0_10', 'lm_s__0_11', 'lm_s__0_12',\n",
       "       'lm_s__0_13', 'lm_s__0_14', 'lm_s__0_15', 'lm_s__0_16',\n",
       "       'lm_s__0_17', 'lm_s__0_18', 'lm_s__0_19', 'lm_s__0_20',\n",
       "       'lm_s__0_21', 'lm_s__0_22', 'lm_s__0_23', 'lm_i__0', 'lm_s__0_1',\n",
       "       'lm_s__0_2', 'lm_s__0_3', 'lm_s__0_4', 'lm_s__0_5', 'lm_s__0_6',\n",
       "       'lm_s__0_7', 'lm_s__0_8', 'lm_s__0_9', 'lm_s__0_10', 'lm_s__0_11',\n",
       "       'lm_s__0_12', 'lm_i__0', 'lm_s__0_1', 'lm_s__0_2', 'lm_s__0_3',\n",
       "       'lm_s__0_4', 'lm_s__0_5', 'lm_s__0_6', 'lm_s__0_7', 'lm_s__0_8',\n",
       "       'lm_s__0_9', 'lm_s__0_10', 'lm_s__0_11', 'lm_s__0_12',\n",
       "       'lm_s__0_13', 'lm_s__0_14', 'lm_s__0_15', 'lm_s__0_16', 'lm_i__0',\n",
       "       'lm_s__0_1', 'lm_s__0_2', 'lm_s__0_3', 'lm_s__0_4', 'lm_s__0_5',\n",
       "       'lm_s__0_6', 'lm_s__0_7', 'lm_s__0_8', 'lm_s__0_9', 'lm_s__0_10',\n",
       "       'lm_s__0_11', 'lm_s__0_12', 'lm_s__0_13', 'lm_s__0_14',\n",
       "       'lm_s__0_15', 'lm_s__0_16', 'lm_s__0_17', 'lm_s__0_18',\n",
       "       'lm_s__0_19', 'lm_s__0_20', 'lm_s__0_21', 'lm_s__0_22',\n",
       "       'lm_s__0_23', 'lm_s__0_24', 'lm_s__0_25', 'lm_s__0_26',\n",
       "       'lm_s__0_27', 'lm_s__0_28', 'k'], dtype=object)"
      ]
     },
     "execution_count": 28,
     "metadata": {},
     "output_type": "execute_result"
    }
   ],
   "source": [
    "df.columns.values"
   ]
  },
  {
   "cell_type": "code",
   "execution_count": 24,
   "metadata": {},
   "outputs": [
    {
     "data": {
      "text/html": [
       "<div>\n",
       "<style scoped>\n",
       "    .dataframe tbody tr th:only-of-type {\n",
       "        vertical-align: middle;\n",
       "    }\n",
       "\n",
       "    .dataframe tbody tr th {\n",
       "        vertical-align: top;\n",
       "    }\n",
       "\n",
       "    .dataframe thead th {\n",
       "        text-align: right;\n",
       "    }\n",
       "</style>\n",
       "<table border=\"1\" class=\"dataframe\">\n",
       "  <thead>\n",
       "    <tr style=\"text-align: right;\">\n",
       "      <th></th>\n",
       "      <th>lm_i__0</th>\n",
       "      <th>lm_i__0</th>\n",
       "      <th>lm_i__0</th>\n",
       "      <th>lm_i__0</th>\n",
       "      <th>lm_i__0</th>\n",
       "      <th>lm_i__0</th>\n",
       "      <th>lm_i__0</th>\n",
       "      <th>lm_i__0</th>\n",
       "    </tr>\n",
       "  </thead>\n",
       "  <tbody>\n",
       "    <tr>\n",
       "      <th>0</th>\n",
       "      <td>347.718913</td>\n",
       "      <td>298.509233</td>\n",
       "      <td>318.093590</td>\n",
       "      <td>298.339674</td>\n",
       "      <td>295.385139</td>\n",
       "      <td>458.873364</td>\n",
       "      <td>210.066962</td>\n",
       "      <td>220.847595</td>\n",
       "    </tr>\n",
       "    <tr>\n",
       "      <th>1</th>\n",
       "      <td>356.168778</td>\n",
       "      <td>294.499039</td>\n",
       "      <td>315.268204</td>\n",
       "      <td>300.035087</td>\n",
       "      <td>296.431488</td>\n",
       "      <td>458.497416</td>\n",
       "      <td>209.507326</td>\n",
       "      <td>212.642551</td>\n",
       "    </tr>\n",
       "    <tr>\n",
       "      <th>2</th>\n",
       "      <td>346.673019</td>\n",
       "      <td>280.341785</td>\n",
       "      <td>308.014746</td>\n",
       "      <td>293.415256</td>\n",
       "      <td>287.995100</td>\n",
       "      <td>442.867002</td>\n",
       "      <td>200.103295</td>\n",
       "      <td>213.623036</td>\n",
       "    </tr>\n",
       "    <tr>\n",
       "      <th>3</th>\n",
       "      <td>334.569212</td>\n",
       "      <td>307.400011</td>\n",
       "      <td>308.425165</td>\n",
       "      <td>292.058629</td>\n",
       "      <td>284.623230</td>\n",
       "      <td>436.793164</td>\n",
       "      <td>200.543249</td>\n",
       "      <td>229.794279</td>\n",
       "    </tr>\n",
       "    <tr>\n",
       "      <th>4</th>\n",
       "      <td>324.077983</td>\n",
       "      <td>317.854623</td>\n",
       "      <td>306.712897</td>\n",
       "      <td>300.343026</td>\n",
       "      <td>281.982722</td>\n",
       "      <td>430.574498</td>\n",
       "      <td>214.116645</td>\n",
       "      <td>245.612495</td>\n",
       "    </tr>\n",
       "    <tr>\n",
       "      <th>...</th>\n",
       "      <td>...</td>\n",
       "      <td>...</td>\n",
       "      <td>...</td>\n",
       "      <td>...</td>\n",
       "      <td>...</td>\n",
       "      <td>...</td>\n",
       "      <td>...</td>\n",
       "      <td>...</td>\n",
       "    </tr>\n",
       "    <tr>\n",
       "      <th>59995</th>\n",
       "      <td>324.584030</td>\n",
       "      <td>347.755737</td>\n",
       "      <td>256.086163</td>\n",
       "      <td>324.402967</td>\n",
       "      <td>264.020604</td>\n",
       "      <td>407.681667</td>\n",
       "      <td>285.671997</td>\n",
       "      <td>324.799298</td>\n",
       "    </tr>\n",
       "    <tr>\n",
       "      <th>59996</th>\n",
       "      <td>332.622775</td>\n",
       "      <td>349.587195</td>\n",
       "      <td>262.881865</td>\n",
       "      <td>328.728971</td>\n",
       "      <td>268.877006</td>\n",
       "      <td>409.773825</td>\n",
       "      <td>294.427424</td>\n",
       "      <td>332.948705</td>\n",
       "    </tr>\n",
       "    <tr>\n",
       "      <th>59997</th>\n",
       "      <td>324.077995</td>\n",
       "      <td>354.295829</td>\n",
       "      <td>271.125940</td>\n",
       "      <td>338.600202</td>\n",
       "      <td>255.228429</td>\n",
       "      <td>391.965046</td>\n",
       "      <td>293.261784</td>\n",
       "      <td>332.776029</td>\n",
       "    </tr>\n",
       "    <tr>\n",
       "      <th>59998</th>\n",
       "      <td>316.153388</td>\n",
       "      <td>355.652312</td>\n",
       "      <td>271.832496</td>\n",
       "      <td>337.547423</td>\n",
       "      <td>246.609868</td>\n",
       "      <td>401.958917</td>\n",
       "      <td>286.873739</td>\n",
       "      <td>333.893524</td>\n",
       "    </tr>\n",
       "    <tr>\n",
       "      <th>59999</th>\n",
       "      <td>322.201090</td>\n",
       "      <td>337.965602</td>\n",
       "      <td>265.128219</td>\n",
       "      <td>333.541484</td>\n",
       "      <td>247.374171</td>\n",
       "      <td>379.869695</td>\n",
       "      <td>282.401872</td>\n",
       "      <td>316.918421</td>\n",
       "    </tr>\n",
       "  </tbody>\n",
       "</table>\n",
       "<p>60000 rows × 8 columns</p>\n",
       "</div>"
      ],
      "text/plain": [
       "          lm_i__0     lm_i__0     lm_i__0     lm_i__0     lm_i__0     lm_i__0  \\\n",
       "0      347.718913  298.509233  318.093590  298.339674  295.385139  458.873364   \n",
       "1      356.168778  294.499039  315.268204  300.035087  296.431488  458.497416   \n",
       "2      346.673019  280.341785  308.014746  293.415256  287.995100  442.867002   \n",
       "3      334.569212  307.400011  308.425165  292.058629  284.623230  436.793164   \n",
       "4      324.077983  317.854623  306.712897  300.343026  281.982722  430.574498   \n",
       "...           ...         ...         ...         ...         ...         ...   \n",
       "59995  324.584030  347.755737  256.086163  324.402967  264.020604  407.681667   \n",
       "59996  332.622775  349.587195  262.881865  328.728971  268.877006  409.773825   \n",
       "59997  324.077995  354.295829  271.125940  338.600202  255.228429  391.965046   \n",
       "59998  316.153388  355.652312  271.832496  337.547423  246.609868  401.958917   \n",
       "59999  322.201090  337.965602  265.128219  333.541484  247.374171  379.869695   \n",
       "\n",
       "          lm_i__0     lm_i__0  \n",
       "0      210.066962  220.847595  \n",
       "1      209.507326  212.642551  \n",
       "2      200.103295  213.623036  \n",
       "3      200.543249  229.794279  \n",
       "4      214.116645  245.612495  \n",
       "...           ...         ...  \n",
       "59995  285.671997  324.799298  \n",
       "59996  294.427424  332.948705  \n",
       "59997  293.261784  332.776029  \n",
       "59998  286.873739  333.893524  \n",
       "59999  282.401872  316.918421  \n",
       "\n",
       "[60000 rows x 8 columns]"
      ]
     },
     "execution_count": 24,
     "metadata": {},
     "output_type": "execute_result"
    }
   ],
   "source": [
    "1e6*(df.iloc[:,cs] - 1)"
   ]
  },
  {
   "cell_type": "code",
   "execution_count": 26,
   "metadata": {},
   "outputs": [
    {
     "data": {
      "text/plain": [
       "<AxesSubplot:>"
      ]
     },
     "execution_count": 26,
     "metadata": {},
     "output_type": "execute_result"
    },
    {
     "data": {
      "image/png": "[encoded data removed]",
      "text/plain": [
       "<Figure size 936x288 with 1 Axes>"
      ]
     },
     "metadata": {
      "needs_background": "light"
     },
     "output_type": "display_data"
    }
   ],
   "source": [
    "sb.violinplot(data=1e6*(df.iloc[:,cs].values-1), inner=None)"
   ]
  },
  {
   "cell_type": "code",
   "execution_count": 16,
   "metadata": {},
   "outputs": [],
   "source": [
    "pvp = permutation(df.values)[:400]"
   ]
  },
  {
   "cell_type": "code",
   "execution_count": 22,
   "metadata": {},
   "outputs": [],
   "source": [
    "bl = median(lpf.baseline(pvp), 0)"
   ]
  },
  {
   "cell_type": "code",
   "execution_count": 23,
   "metadata": {},
   "outputs": [],
   "source": [
    "df = pd.DataFrame(transpose([lpf.timea, lpf.ofluxa/bl, bl]),\n",
    "            columns='time_bjd flux_cor trend'.split())\n",
    "df['visit'] = lpf.lcids + 1"
   ]
  },
  {
   "cell_type": "code",
   "execution_count": 24,
   "metadata": {},
   "outputs": [],
   "source": [
    "tb = Table.from_pandas(df)"
   ]
  },
  {
   "cell_type": "code",
   "execution_count": 25,
   "metadata": {},
   "outputs": [],
   "source": [
    "tb.write('data/cheops_final_detrended.fits', overwrite=True)"
   ]
  },
  {
   "cell_type": "markdown",
   "metadata": {},
   "source": [
    "---\n",
    "\n",
    "<center>&copy;2022 Hannu Parviainen</center>"
   ]
  }
 ],
 "metadata": {
  "kernelspec": {
   "display_name": "Python 3 (ipykernel)",
   "language": "python",
   "name": "python3"
  },
  "language_info": {
   "codemirror_mode": {
    "name": "ipython",
    "version": 3
   },
   "file_extension": ".py",
   "mimetype": "text/x-python",
   "name": "python",
   "nbconvert_exporter": "python",
   "pygments_lexer": "ipython3",
   "version": "3.9.12"
  },
  "latex_envs": {
   "LaTeX_envs_menu_present": true,
   "autoclose": false,
   "autocomplete": true,
   "bibliofile": "biblio.bib",
   "cite_by": "apalike",
   "current_citInitial": 1,
   "eqLabelWithNumbers": true,
   "eqNumInitial": 1,
   "hotkeys": {
    "equation": "Ctrl-E",
    "itemize": "Ctrl-I"
   },
   "labels_anchors": false,
   "latex_user_defs": false,
   "report_style_numbering": false,
   "user_envs_cfg": false
  }
 },
 "nbformat": 4,
 "nbformat_minor": 4
}
