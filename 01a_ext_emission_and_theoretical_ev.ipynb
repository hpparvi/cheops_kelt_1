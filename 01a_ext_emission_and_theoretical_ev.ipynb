{
 "cells": [
  {
   "cell_type": "markdown",
   "id": "0bd3e044",
   "metadata": {},
   "source": [
    "# 1 Modelling the external data\n",
    "## Case a) Theoretical EV amplitude\n",
    "\n",
    "**Author:** Hannu Parviainen<br>\n",
    "**Last edited:** 26.5.2022\n",
    "\n",
    "The *external data analysis* models all the prior observations (TESS, Ks, H, and Spitzer 3.6 and 4.5 $\\mu$m) jointly usinga a phase curve model that includes the transit, secondary eclipse, thermal emission, ellipsoidal variation, and Doppler boosting. We ignore the reflection signal for now since it is too degenerate with thermal emission, but we can study the possible ranges for emission and reflection later.\n",
    "\n",
    "The model is implemented by `src.priordatalpf.ExternalDataLPF`, which inherits all its functionality from `pytransit.lpf.PhaseCurveLPF`.\n",
    "\n",
    "The model uses individual GPs for each light curve to model the systematics. This makes the likelihood quite expensive to calculate, so it's best to parallelise the optimisation and sampling. We do this using multiprocessing, but for this we need to force the separate processes to use a single thread (for example, the transit model evaluation in *PyTransit* is already multithreaded, and running many processes each with many threads would slow down the computations rather than speeding them.)"
   ]
  },
  {
   "cell_type": "code",
   "execution_count": 1,
   "id": "0b080347",
   "metadata": {},
   "outputs": [],
   "source": [
    "%run src/init_threading_for_multiprocessing.py"
   ]
  },
  {
   "cell_type": "code",
   "execution_count": null,
   "id": "fa140397",
   "metadata": {},
   "outputs": [],
   "source": [
    "%matplotlib inline"
   ]
  },
  {
   "cell_type": "code",
   "execution_count": 2,
   "id": "6484cfaa",
   "metadata": {},
   "outputs": [],
   "source": [
    "from multiprocessing import Pool\n",
    "from numpy.random import permutation\n",
    "from src import ExternalDataLPF, read_mcmc"
   ]
  },
  {
   "cell_type": "markdown",
   "id": "69d1b16f",
   "metadata": {},
   "source": [
    "## Initialise the LPF"
   ]
  },
  {
   "cell_type": "code",
   "execution_count": 3,
   "id": "6eeb9d46",
   "metadata": {},
   "outputs": [],
   "source": [
    "lpf = ExternalDataLPF('a')"
   ]
  },
  {
   "cell_type": "markdown",
   "id": "19ea4852",
   "metadata": {},
   "source": [
    "## Take a look at the parameters and their priors"
   ]
  },
  {
   "cell_type": "code",
   "execution_count": 6,
   "id": "5f04f8c5",
   "metadata": {},
   "outputs": [
    {
     "data": {
      "text/plain": [
       "[  0 |G| tc             N(μ = 2455914.1628, σ = 0.01)            [    -inf ..      inf],\n",
       "   1 |G| p              N(μ = 1.217513, σ = 4.5e-05)             [    0.00 ..      inf],\n",
       "   2 |G| rho            N(μ = 0.5392592032228568, σ = 0.07529312598667542) [    0.00 ..      inf],\n",
       "   3 |G| b              U(a = 0.0, b = 1.0)                      [    0.00 ..     1.00],\n",
       "   4 |G| secw           N(μ = 0.0, σ = 1e-06)                    [   -1.00 ..     1.00],\n",
       "   5 |G| sesw           N(μ = 0.0, σ = 1e-06)                    [   -1.00 ..     1.00],\n",
       "   6 |P| k2             N(μ = 0.078, σ = 0.005)                  [    0.00 ..      inf],\n",
       "   7 |G| oev            N(μ = 0.0, σ = 0.09)                     [    -inf ..      inf],\n",
       "   8 |G| aev_TESS       N(μ = 0.000443, σ = 2.8e-05)             [    0.00 ..      inf],\n",
       "   9 |G| adb_TESS       N(μ = 4.1e-05, σ = 4.2e-06)              [    0.00 ..      inf],\n",
       "  10 |G| log10_ted_TESS U(a = -3.0, b = 0.0)                     [    -inf ..      inf],\n",
       "  11 |G| log10_ten_TESS U(a = -4.0, b = 0.0)                     [    -inf ..      inf],\n",
       "  12 |G| teo_TESS       N(μ = 0.0, σ = 0.17453292519943295)      [    -inf ..      inf],\n",
       "  13 |G| ag_TESS        N(μ = 0.0001, σ = 1e-06)                 [    0.00 ..     1.00],\n",
       "  14 |G| aev_H          N(μ = 0.000358, σ = 2.3e-05)             [    0.00 ..      inf],\n",
       "  15 |G| adb_H          N(μ = 2.5e-05, σ = 2.6e-06)              [    0.00 ..      inf],\n",
       "  16 |G| log10_ted_H    U(a = -3.0, b = 0.0)                     [    -inf ..      inf],\n",
       "  17 |G| log10_ten_H    N(μ = -5.0, σ = 0.01)                    [    -inf ..      inf],\n",
       "  18 |G| teo_H          N(μ = 0.0, σ = 0.17453292519943295)      [    -inf ..      inf],\n",
       "  19 |G| ag_H           N(μ = 0.0001, σ = 1e-06)                 [    0.00 ..     1.00],\n",
       "  20 |G| aev_Ks         N(μ = 0.00035299999999999996, σ = 2.2e-05) [    0.00 ..      inf],\n",
       "  21 |G| adb_Ks         N(μ = 1.9e-05, σ = 1.84e-06)             [    0.00 ..      inf],\n",
       "  22 |G| log10_ted_Ks   U(a = -3.0, b = 0.0)                     [    -inf ..      inf],\n",
       "  23 |G| log10_ten_Ks   N(μ = -5.0, σ = 0.01)                    [    -inf ..      inf],\n",
       "  24 |G| teo_Ks         N(μ = 0.0, σ = 0.17453292519943295)      [    -inf ..      inf],\n",
       "  25 |G| ag_Ks          N(μ = 0.0001, σ = 1e-06)                 [    0.00 ..     1.00],\n",
       "  26 |G| aev_36um       N(μ = 0.00034399999999999996, σ = 2.2e-05) [    0.00 ..      inf],\n",
       "  27 |G| adb_36um       N(μ = 1.7e-05, σ = 1.66e-06)             [    0.00 ..      inf],\n",
       "  28 |G| log10_ted_36um U(a = -3.0, b = 0.0)                     [    -inf ..      inf],\n",
       "  29 |G| log10_ten_36um U(a = -4.0, b = 0.0)                     [    -inf ..      inf],\n",
       "  30 |G| teo_36um       N(μ = 0.0, σ = 0.17453292519943295)      [    -inf ..      inf],\n",
       "  31 |G| ag_36um        N(μ = 0.0001, σ = 1e-06)                 [    0.00 ..     1.00],\n",
       "  32 |G| aev_45um       N(μ = 0.000343, σ = 2.2e-05)             [    0.00 ..      inf],\n",
       "  33 |G| adb_45um       N(μ = 1.6e-05, σ = 1.58e-06)             [    0.00 ..      inf],\n",
       "  34 |G| log10_ted_45um U(a = -3.0, b = 0.0)                     [    -inf ..      inf],\n",
       "  35 |G| log10_ten_45um U(a = -4.0, b = 0.0)                     [    -inf ..      inf],\n",
       "  36 |G| teo_45um       N(μ = 0.0, σ = 0.17453292519943295)      [    -inf ..      inf],\n",
       "  37 |G| ag_45um        N(μ = 0.0001, σ = 1e-06)                 [    0.00 ..     1.00],\n",
       "  38 |P| q1_TESS        U(a = 0, b = 1)                          [    0.00 ..     1.00],\n",
       "  39 |P| q2_TESS        U(a = 0, b = 1)                          [    0.00 ..     1.00],\n",
       "  40 |P| q1_H           N(μ = 0.5, σ = 0.001)                    [    0.00 ..     1.00],\n",
       "  41 |P| q2_H           N(μ = 0.5, σ = 0.001)                    [    0.00 ..     1.00],\n",
       "  42 |P| q1_Ks          N(μ = 0.5, σ = 0.001)                    [    0.00 ..     1.00],\n",
       "  43 |P| q2_Ks          N(μ = 0.5, σ = 0.001)                    [    0.00 ..     1.00],\n",
       "  44 |P| q1_36um        N(μ = 0.03, σ = 0.0005)                  [    0.00 ..     1.00],\n",
       "  45 |P| q2_36um        N(μ = 0.28, σ = 0.004)                   [    0.00 ..     1.00],\n",
       "  46 |P| q1_45um        N(μ = 0.02, σ = 0.0004)                  [    0.00 ..     1.00],\n",
       "  47 |P| q2_45um        N(μ = 0.29, σ = 0.005)                   [    0.00 ..     1.00],\n",
       "  48 |L| gp_TESS_ln_out N(μ = -6.1, σ = 1.0)                     [    -inf ..      inf],\n",
       "  49 |L| gp_TESS_ln_in  N(μ = 1.0, σ = 1.0)                      [    -inf ..      inf],\n",
       "  50 |L| gp_TESS_log10_wn N(μ = -2.91843678487546, σ = 0.025)      [    -inf ..      inf],\n",
       "  51 |L| gp_H_p_0       N(μ = -13.96, σ = 1.5)                   [    -inf ..      inf],\n",
       "  52 |L| gp_H_p_1       N(μ = 1.0, σ = 1.0)                      [    -inf ..      inf],\n",
       "  53 |L| gp_H_p_2       N(μ = 1.0, σ = 1.0)                      [    -inf ..      inf],\n",
       "  54 |L| gp_H_p_3       N(μ = 1.0, σ = 1.0)                      [    -inf ..      inf],\n",
       "  55 |L| gp_H_p_4       N(μ = 1.0, σ = 1.0)                      [    -inf ..      inf],\n",
       "  56 |L| gp_H_p_5       N(μ = 1.0, σ = 1.0)                      [    -inf ..      inf],\n",
       "  57 |L| gp_H_p_6       N(μ = 1.0, σ = 1.0)                      [    -inf ..      inf],\n",
       "  58 |L| gp_H_p_7       N(μ = 1.0, σ = 1.0)                      [    -inf ..      inf],\n",
       "  59 |L| gp_H_log10_wn  N(μ = -3.3254569461627006, σ = 0.025)    [    -inf ..      inf],\n",
       "  60 |L| gp_Ks_p_0      N(μ = -13.8, σ = 1.5)                    [    -inf ..      inf],\n",
       "  61 |L| gp_Ks_p_1      N(μ = 1.0, σ = 1.0)                      [    -inf ..      inf],\n",
       "  62 |L| gp_Ks_p_2      N(μ = 1.0, σ = 1.0)                      [    -inf ..      inf],\n",
       "  63 |L| gp_Ks_log10_wn N(μ = -3.269937474000881, σ = 0.025)     [    -inf ..      inf],\n",
       "  64 |L| gp_Spitzer_p_0 N(μ = -11.32, σ = 1.5)                   [    -inf ..      inf],\n",
       "  65 |L| gp_Spitzer_p_1 N(μ = 1.0, σ = 1.0)                      [    -inf ..      inf],\n",
       "  66 |L| gp_Spitzer_p_2 N(μ = 1.0, σ = 1.0)                      [    -inf ..      inf],\n",
       "  67 |L| gp_Spitzer_log10_wn N(μ = -3.0652208759196093, σ = 0.025)    [    -inf ..      inf],\n",
       "  68 |L| lm_i_TESS_1    N(μ = 1.0, σ = 0.002276041968930984)     [    -inf ..      inf],\n",
       "  69 |L| lm_i_H_0       N(μ = 1.0, σ = 0.0009317727354302904)    [    -inf ..      inf],\n",
       "  70 |L| lm_i_Ks_0      N(μ = 1.0, σ = 0.001009079094852436)     [    -inf ..      inf],\n",
       "  71 |L| lm_i_36um_0    N(μ = 1.0, σ = 0.004036775044459743)     [    -inf ..      inf],\n",
       "  72 |L| lm_i_36um_1    N(μ = 1.0, σ = 0.00765465143417929)      [    -inf ..      inf],\n",
       "  73 |L| lm_i_36um_2    N(μ = 1.0, σ = 0.005941674550509351)     [    -inf ..      inf],\n",
       "  74 |L| lm_i_36um_3    N(μ = 1.0, σ = 0.00463721715595512)      [    -inf ..      inf],\n",
       "  75 |L| lm_i_45um_0    N(μ = 1.0, σ = 0.0019422680513457738)    [    -inf ..      inf],\n",
       "  76 |L| lm_i_45um_1    N(μ = 1.0, σ = 0.0017005028549136603)    [    -inf ..      inf],\n",
       "  77 |L| lm_i_45um_2    N(μ = 1.0, σ = 0.002825442557144759)     [    -inf ..      inf],\n",
       "  78 |L| lm_i_45um_3    N(μ = 1.0, σ = 0.0015744839087324732)    [    -inf ..      inf]]"
      ]
     },
     "execution_count": 6,
     "metadata": {},
     "output_type": "execute_result"
    }
   ],
   "source": [
    "lpf.ps"
   ]
  },
  {
   "cell_type": "markdown",
   "id": "919707ff",
   "metadata": {},
   "source": [
    "## Set up the multiprocessing pool\n",
    "\n",
    "The log posterior function is quite heavy to compute and we need to use a large parameter vector population, so you'll need quite a powerful computer to do the sampling. These analyses were carried out with a computer equipped with two Intel(R) Xeon(R) Gold 6230 CPUs, totaling 40 cores and 80 threads. I'm using 50 processes by default since the computer is also used by other members of our group. This way, the optimisation and MCMC sampling takes about six to eight hours in total."
   ]
  },
  {
   "cell_type": "code",
   "execution_count": 7,
   "id": "52beb563",
   "metadata": {},
   "outputs": [],
   "source": [
    "def lnposterior(pv):\n",
    "    return lpf.lnposterior(pv)\n",
    "\n",
    "pool = Pool(processes=50)"
   ]
  },
  {
   "cell_type": "markdown",
   "id": "a883ea96",
   "metadata": {},
   "source": [
    "## Initialise the optimisation and MCMC sampling\n",
    "\n",
    "This piece of code is a bit ugly and could be moved to a imported function (we repeat this in every analysis notebook), buty I'm feeling lazy..."
   ]
  },
  {
   "cell_type": "code",
   "execution_count": 8,
   "id": "2036977e",
   "metadata": {},
   "outputs": [
    {
     "data": {
      "application/vnd.jupyter.widget-view+json": {
       "model_id": "d54caa55317c4100818b6a18e1aa861b",
       "version_major": 2,
       "version_minor": 0
      },
      "text/plain": [
       "Global optimisation:   0%|          | 0/45000 [00:00<?, ?it/s]"
      ]
     },
     "metadata": {},
     "output_type": "display_data"
    },
    {
     "data": {
      "application/vnd.jupyter.widget-view+json": {
       "model_id": "3848d0abd1274053ac8f4faa3d1b6287",
       "version_major": 2,
       "version_minor": 0
      },
      "text/plain": [
       "MCMC sampling:   0%|          | 0/1 [00:00<?, ?it/s]"
      ]
     },
     "metadata": {},
     "output_type": "display_data"
    },
    {
     "data": {
      "application/vnd.jupyter.widget-view+json": {
       "model_id": "",
       "version_major": 2,
       "version_minor": 0
      },
      "text/plain": [
       "Run 1/1:   0%|          | 0/50 [00:00<?, ?it/s]"
      ]
     },
     "metadata": {},
     "output_type": "display_data"
    },
    {
     "data": {
      "image/png": "[encoded data removed]",
      "text/plain": [
       "<Figure size 936x144 with 5 Axes>"
      ]
     },
     "metadata": {
      "needs_background": "light"
     },
     "output_type": "display_data"
    }
   ],
   "source": [
    "how_to_start = 'start_from_scratch'\n",
    "#how_to_start = 'continue'\n",
    "npop = 200\n",
    "\n",
    "if how_to_start is 'start_from_scratch':\n",
    "    lpf.optimize_global(45000, npop, pool=pool, lnpost=lnposterior, vectorize=False)\n",
    "    lpf.sample_mcmc(50, thin=10, repeats=1, save=False, pool=pool, lnpost=lnposterior, vectorize=False)\n",
    "    \n",
    "elif how_to_start is 'continue':\n",
    "    lpf.optimize_global(1, 200, pool=pool, lnpost=lnposterior, vectorize=False)\n",
    "    df = read_mcmc(f'results/{lpf.name}.nc')\n",
    "    sids = permutation(df.values.shape[0])[:lpf.de.n_pop]\n",
    "    starting_population = df.values[sids, :-1].copy()\n",
    "    lpf.sample_mcmc(50, thin=10, repeats=1, save=False, population=starting_population, \n",
    "                    pool=pool, lnpost=lnposterior, vectorize=False)\n",
    "    \n",
    "else:\n",
    "    raise NotImplementedError"
   ]
  },
  {
   "cell_type": "markdown",
   "id": "7800bd78",
   "metadata": {},
   "source": [
    "## Sample the posterior\n",
    "\n",
    "As mentioned above, this will take from six to eight hours with a relatively powerful computer, so better just leave it running over night."
   ]
  },
  {
   "cell_type": "code",
   "execution_count": null,
   "id": "3be51b6a",
   "metadata": {},
   "outputs": [],
   "source": [
    "lpf.sample_mcmc(5000, thin=50, repeats=10, save=True, pool=pool, lnpost=lnposterior, vectorize=False)"
   ]
  },
  {
   "cell_type": "markdown",
   "id": "4bd6ce94",
   "metadata": {},
   "source": [
    "---\n",
    "\n",
    "<center>&copy 2022 Hannu Parviainen</center>"
   ]
  }
 ],
 "metadata": {
  "kernelspec": {
   "display_name": "Python 3 (ipykernel)",
   "language": "python",
   "name": "python3"
  },
  "language_info": {
   "codemirror_mode": {
    "name": "ipython",
    "version": 3
   },
   "file_extension": ".py",
   "mimetype": "text/x-python",
   "name": "python",
   "nbconvert_exporter": "python",
   "pygments_lexer": "ipython3",
   "version": "3.8.5"
  }
 },
 "nbformat": 4,
 "nbformat_minor": 5
}
